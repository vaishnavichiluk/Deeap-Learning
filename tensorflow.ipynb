{
  "cells": [
    {
      "cell_type": "markdown",
      "metadata": {
        "id": "X_oDQSzkT_O0"
      },
      "source": [
        "# **using tensorflow keras**\n",
        "**\"Empowering Precision and Quality in Welding through Intelligent Defect Detection.\"**"
      ]
    },
    {
      "cell_type": "code",
      "execution_count": null,
      "metadata": {
        "colab": {
          "base_uri": "https://localhost:8080/"
        },
        "id": "mVUpzaPLGVsq",
        "outputId": "07ce302c-926a-4769-bcd5-8d36618c6e0d"
      },
      "outputs": [
        {
          "output_type": "stream",
          "name": "stdout",
          "text": [
            "Mounted at /content/drive\n"
          ]
        }
      ],
      "source": [
        "from google.colab import drive\n",
        "\n",
        "# Mount Google Drive\n",
        "drive.mount('/content/drive')\n"
      ]
    },
    {
      "cell_type": "code",
      "execution_count": null,
      "metadata": {
        "id": "pZYdHtwRGdo2"
      },
      "outputs": [],
      "source": [
        "import numpy as np\n",
        "import tensorflow as tf\n",
        "from tensorflow.keras import layers, models\n",
        "from tensorflow.keras.preprocessing.image import ImageDataGenerator\n"
      ]
    },
    {
      "cell_type": "code",
      "execution_count": null,
      "metadata": {
        "colab": {
          "base_uri": "https://localhost:8080/"
        },
        "id": "YNm5X81BGds8",
        "outputId": "d5b58bd9-804b-4fa0-ab5f-75640069e965"
      },
      "outputs": [
        {
          "output_type": "stream",
          "name": "stdout",
          "text": [
            "Found 839 images belonging to 2 classes.\n",
            "Found 176 images belonging to 2 classes.\n"
          ]
        }
      ],
      "source": [
        "# Set parameters\n",
        "img_height, img_width = 224, 224\n",
        "batch_size = 32\n",
        "dataset_path = '/content/drive/MyDrive/welding dataset/The Welding Defect Dataset'\n",
        "\n",
        "# Create ImageDataGenerators for training and validation sets\n",
        "train_datagen = ImageDataGenerator(rescale=1./255)\n",
        "val_datagen = ImageDataGenerator(rescale=1./255)\n",
        "\n",
        "train_generator = train_datagen.flow_from_directory(\n",
        "    dataset_path + '/train',\n",
        "    target_size=(img_height, img_width),\n",
        "    batch_size=batch_size,\n",
        "    class_mode='categorical'\n",
        ")\n",
        "\n",
        "val_generator = val_datagen.flow_from_directory(\n",
        "    dataset_path + '/valid',\n",
        "    target_size=(img_height, img_width),\n",
        "    batch_size=batch_size,\n",
        "    class_mode='categorical'\n",
        ")"
      ]
    },
    {
      "cell_type": "code",
      "execution_count": null,
      "metadata": {
        "colab": {
          "base_uri": "https://localhost:8080/"
        },
        "id": "G78LM1x9Gdud",
        "outputId": "e60e0568-45fa-4b77-94b2-0af494218921"
      },
      "outputs": [
        {
          "output_type": "stream",
          "name": "stdout",
          "text": [
            "Downloading data from https://storage.googleapis.com/tensorflow/keras-applications/resnet/resnet50_weights_tf_dim_ordering_tf_kernels_notop.h5\n",
            "\u001b[1m94765736/94765736\u001b[0m \u001b[32m━━━━━━━━━━━━━━━━━━━━\u001b[0m\u001b[37m\u001b[0m \u001b[1m1s\u001b[0m 0us/step\n"
          ]
        }
      ],
      "source": [
        "def create_model(input_shape, num_classes):\n",
        "    base_model = tf.keras.applications.ResNet50(weights='imagenet', include_top=False, input_shape=input_shape)\n",
        "    base_model.trainable = False\n",
        "    inputs = layers.Input(shape=input_shape)\n",
        "    x = base_model(inputs, training=False)\n",
        "    x = layers.GlobalAveragePooling2D()(x)\n",
        "    x = layers.Dense(128, activation='relu')(x)\n",
        "    outputs = layers.Dense(num_classes, activation='softmax')(x)\n",
        "\n",
        "    model = models.Model(inputs, outputs)\n",
        "    return model\n",
        "\n",
        "# Define model parameters\n",
        "input_shape = (img_height, img_width, 3)\n",
        "num_classes = len(train_generator.class_indices)\n",
        "\n",
        "model = create_model(input_shape, num_classes)\n",
        "\n",
        "# Compile the model\n",
        "model.compile(optimizer='adam', loss='categorical_crossentropy', metrics=['accuracy'])\n"
      ]
    },
    {
      "cell_type": "code",
      "execution_count": null,
      "metadata": {
        "colab": {
          "base_uri": "https://localhost:8080/"
        },
        "id": "qnyDhhdRGdxD",
        "outputId": "c77ec473-c2ba-4ce0-96cf-5547d637bd40"
      },
      "outputs": [
        {
          "output_type": "stream",
          "name": "stdout",
          "text": [
            "Epoch 1/3\n"
          ]
        },
        {
          "output_type": "stream",
          "name": "stderr",
          "text": [
            "/usr/local/lib/python3.10/dist-packages/keras/src/trainers/data_adapters/py_dataset_adapter.py:121: UserWarning: Your `PyDataset` class should call `super().__init__(**kwargs)` in its constructor. `**kwargs` can include `workers`, `use_multiprocessing`, `max_queue_size`. Do not pass these arguments to `fit()`, as they will be ignored.\n",
            "  self._warn_if_super_not_called()\n"
          ]
        },
        {
          "output_type": "stream",
          "name": "stdout",
          "text": [
            "\u001b[1m27/27\u001b[0m \u001b[32m━━━━━━━━━━━━━━━━━━━━\u001b[0m\u001b[37m\u001b[0m \u001b[1m245s\u001b[0m 9s/step - accuracy: 0.7602 - loss: 0.4318 - val_accuracy: 1.0000 - val_loss: 9.1723e-06\n",
            "Epoch 2/3\n",
            "\u001b[1m27/27\u001b[0m \u001b[32m━━━━━━━━━━━━━━━━━━━━\u001b[0m\u001b[37m\u001b[0m \u001b[1m235s\u001b[0m 8s/step - accuracy: 1.0000 - loss: 6.3079e-06 - val_accuracy: 1.0000 - val_loss: 2.0266e-06\n",
            "Epoch 3/3\n",
            "\u001b[1m27/27\u001b[0m \u001b[32m━━━━━━━━━━━━━━━━━━━━\u001b[0m\u001b[37m\u001b[0m \u001b[1m202s\u001b[0m 7s/step - accuracy: 1.0000 - loss: 1.9657e-06 - val_accuracy: 1.0000 - val_loss: 1.1562e-06\n"
          ]
        }
      ],
      "source": [
        "# Train the model\n",
        "history = model.fit(\n",
        "    train_generator,\n",
        "    validation_data=val_generator,\n",
        "    epochs=3  # Adjust epochs based on your needs\n",
        ")\n"
      ]
    },
    {
      "cell_type": "code",
      "execution_count": null,
      "metadata": {
        "colab": {
          "base_uri": "https://localhost:8080/"
        },
        "id": "w3OTPKAzGdz6",
        "outputId": "21acb3f8-7c47-4b24-86c6-c7f7859a884a"
      },
      "outputs": [
        {
          "output_type": "stream",
          "name": "stdout",
          "text": [
            "\u001b[1m6/6\u001b[0m \u001b[32m━━━━━━━━━━━━━━━━━━━━\u001b[0m\u001b[37m\u001b[0m \u001b[1m35s\u001b[0m 6s/step - accuracy: 1.0000 - loss: 1.1463e-06\n",
            "Validation Loss: 1.1561937753867824e-06, Validation Accuracy: 1.0\n"
          ]
        }
      ],
      "source": [
        "# Evaluate the model\n",
        "val_loss, val_accuracy = model.evaluate(val_generator)\n",
        "print(f'Validation Loss: {val_loss}, Validation Accuracy: {val_accuracy}')\n"
      ]
    },
    {
      "cell_type": "code",
      "execution_count": null,
      "metadata": {
        "id": "k8Y3s6PPGd2F"
      },
      "outputs": [],
      "source": [
        "# Save the model in Keras format\n",
        "model.save('/content/drive/My Drive/welding_defect_model.keras')\n"
      ]
    },
    {
      "cell_type": "code",
      "execution_count": null,
      "metadata": {
        "id": "9QNVotFEGd5z"
      },
      "outputs": [],
      "source": [
        "# Load the model from Keras format\n",
        "model = tf.keras.models.load_model('/content/drive/My Drive/welding_defect_model.keras')\n"
      ]
    },
    {
      "cell_type": "code",
      "execution_count": null,
      "metadata": {
        "colab": {
          "base_uri": "https://localhost:8080/"
        },
        "id": "BE-3BqC_Gd7t",
        "outputId": "683afbbd-ad61-4ff7-8be7-027a580ce00f"
      },
      "outputs": [
        {
          "output_type": "stream",
          "name": "stdout",
          "text": [
            "\u001b[1m1/1\u001b[0m \u001b[32m━━━━━━━━━━━━━━━━━━━━\u001b[0m\u001b[37m\u001b[0m \u001b[1m3s\u001b[0m 3s/step\n",
            "\u001b[1m1/1\u001b[0m \u001b[32m━━━━━━━━━━━━━━━━━━━━\u001b[0m\u001b[37m\u001b[0m \u001b[1m0s\u001b[0m 339ms/step\n",
            "Predicted Class1: images\n",
            "Predicted Class2: images\n"
          ]
        }
      ],
      "source": [
        "# Load and preprocess a new image for prediction\n",
        "def prepare_image(img_path):\n",
        "    img = tf.keras.preprocessing.image.load_img(img_path, target_size=(img_height, img_width))\n",
        "    img_array = tf.keras.preprocessing.image.img_to_array(img)\n",
        "    img_array = np.expand_dims(img_array, axis=0)\n",
        "    img_array = img_array / 255.0\n",
        "    return img_array\n",
        "\n",
        "# Path to the new image\n",
        "img_path1 = '//content/drive/MyDrive/welding dataset/The Welding Defect Dataset/test/images/295992d6-f617b725-c1_png_jpg.rf.5f645e13f1695df588b0644ca9702c43.jpg'\n",
        "img_path2='/content/drive/MyDrive/welding dataset/The Welding Defect Dataset/test/images/Good-Welding-images_23_jpeg_jpg.rf.fdf50352e3c124ff6edab3e96257a040.jpg'\n",
        "img_array1 = prepare_image(img_path1)\n",
        "img_array2 = prepare_image(img_path2)\n",
        "\n",
        "# Make a prediction\n",
        "predictions1 = model.predict(img_array1)\n",
        "predictions2 = model.predict(img_array2)\n",
        "predicted_class1 = np.argmax(predictions1, axis=1)\n",
        "predicted_class2 = np.argmax(predictions2, axis=1)\n",
        "class_labels = list(train_generator.class_indices.keys())  # Get class labels\n",
        "print(f'Predicted Class1: {class_labels[predicted_class1[0]]}')\n",
        "print(f'Predicted Class2: {class_labels[predicted_class2[0]]}')\n",
        "\n",
        "\n"
      ]
    }
  ],
  "metadata": {
    "colab": {
      "provenance": []
    },
    "kernelspec": {
      "display_name": "Python 3",
      "name": "python3"
    },
    "language_info": {
      "name": "python"
    }
  },
  "nbformat": 4,
  "nbformat_minor": 0
}